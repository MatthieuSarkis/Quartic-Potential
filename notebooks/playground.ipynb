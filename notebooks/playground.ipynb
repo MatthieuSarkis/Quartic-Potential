{
 "cells": [
  {
   "cell_type": "code",
   "execution_count": null,
   "metadata": {},
   "outputs": [],
   "source": [
    "numpy.savetxt(\"mydata.csv\", a, delimiter=' & ', fmt='%2.2e', newline=' \\\\\\\\\\n')"
   ]
  }
 ],
 "metadata": {
  "kernelspec": {
   "display_name": "Python 3.8.10 ('.env': venv)",
   "language": "python",
   "name": "python3"
  },
  "language_info": {
   "codemirror_mode": {
    "name": "ipython",
    "version": 3
   },
   "file_extension": ".py",
   "mimetype": "text/x-python",
   "name": "python",
   "nbconvert_exporter": "python",
   "pygments_lexer": "ipython3",
   "version": "3.8.10"
  },
  "vscode": {
   "interpreter": {
    "hash": "9392c5f590af2ac3aaee5958b156c6789f0ef34dd74a5b56b8f7cfd862f46876"
   }
  }
 },
 "nbformat": 4,
 "nbformat_minor": 4
}
